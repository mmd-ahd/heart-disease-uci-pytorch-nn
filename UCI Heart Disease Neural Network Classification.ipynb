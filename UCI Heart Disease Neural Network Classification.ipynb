{
 "cells": [
  {
   "cell_type": "markdown",
   "id": "45f4d35f",
   "metadata": {},
   "source": [
    "# UCI Heart Disease Neural Network Classification\n",
    "### Course: Machine Learning\n",
    "### Instructor: Dr. Golnaz Baghdadi\n",
    "### Author: Mohammad Ahadzadeh\n",
    "#### Date: May 31, 2025"
   ]
  },
  {
   "cell_type": "markdown",
   "id": "36652d65",
   "metadata": {},
   "source": [
    "## Introduction"
   ]
  },
  {
   "cell_type": "markdown",
   "id": "2b548aab",
   "metadata": {},
   "source": [
    "### Project Overview\n",
    "This project focuses on the application of shallow neural networks for medical prediction, specifically to forecast the likelihood of heart disease in patients. We will be utilizing the \"Heart Disease UCI\" dataset, a widely recognized collection of medical data containing various patient attributes relevant to cardiac health. The primary goal is to build a predictive model and explore its capabilities in a medical context."
   ]
  },
  {
   "cell_type": "markdown",
   "id": "b18afbc5",
   "metadata": {},
   "source": [
    "### Objectives\n",
    "The key objectives for this project are:\n",
    "\n",
    "- To implement a shallow neural network, specifically one with one or two hidden layers, using the PyTorch library.\n",
    "\n",
    "- To train this neural network using the Heart Disease UCI medical dataset and subsequently evaluate its performance in predicting heart disease.\n",
    "\n",
    "- To conduct a comparative analysis by evaluating the performance of the implemented neural network against other established machine learning models.\n",
    "\n",
    "- To investigate and analyze the impact of architectural choices, such as the number of hidden layers and the number of neurons within these layers, on the overall performance of the neural network model.\n"
   ]
  },
  {
   "cell_type": "markdown",
   "id": "0fc9656a",
   "metadata": {},
   "source": [
    "## Setup and Environment Configuration"
   ]
  },
  {
   "cell_type": "markdown",
   "id": "a646b35e",
   "metadata": {},
   "source": [
    "### Importing Libraries"
   ]
  },
  {
   "cell_type": "code",
   "execution_count": 1,
   "id": "5f178619",
   "metadata": {},
   "outputs": [
    {
     "data": {
      "text/plain": [
       "<torch._C.Generator at 0x26ef9d1a870>"
      ]
     },
     "execution_count": 1,
     "metadata": {},
     "output_type": "execute_result"
    }
   ],
   "source": [
    "import numpy as np\n",
    "import pandas as pd\n",
    "import torch\n",
    "import torch.nn as nn\n",
    "import torch.optim as optim\n",
    "from torch.utils.data import Dataset, DataLoader\n",
    "from sklearn.model_selection import train_test_split\n",
    "from sklearn.preprocessing import StandardScaler, OneHotEncoder\n",
    "from sklearn.compose import ColumnTransformer\n",
    "from sklearn.pipeline import Pipeline\n",
    "from sklearn.metrics import accuracy_score, classification_report, confusion_matrix, f1_score\n",
    "from sklearn.linear_model import LogisticRegression\n",
    "from sklearn.svm import SVC\n",
    "from sklearn.ensemble import RandomForestClassifier\n",
    "from sklearn.neighbors import KNeighborsClassifier\n",
    "from sklearn.experimental import enable_iterative_imputer\n",
    "from sklearn.impute import IterativeImputer, SimpleImputer\n",
    "from sklearn.utils.class_weight import compute_class_weight\n",
    "from sklearn.linear_model import LogisticRegression\n",
    "from sklearn.discriminant_analysis import LinearDiscriminantAnalysis\n",
    "from sklearn.tree import DecisionTreeClassifier\n",
    "from sklearn.ensemble import RandomForestClassifier, VotingClassifier\n",
    "from sklearn.neighbors import KNeighborsClassifier\n",
    "from sklearn.naive_bayes import GaussianNB\n",
    "from sklearn.svm import SVC\n",
    "from imblearn.over_sampling import SMOTE\n",
    "import matplotlib.pyplot as plt\n",
    "import seaborn as sns\n",
    "torch.manual_seed(715)"
   ]
  },
  {
   "cell_type": "markdown",
   "id": "01b601cd",
   "metadata": {},
   "source": [
    "### Device Configuration"
   ]
  },
  {
   "cell_type": "code",
   "execution_count": 2,
   "id": "e03cd63e",
   "metadata": {},
   "outputs": [],
   "source": [
    "device = torch.device('cuda')"
   ]
  },
  {
   "cell_type": "markdown",
   "id": "46257dfb",
   "metadata": {},
   "source": [
    "## Data Loading and Initial Exploration"
   ]
  },
  {
   "cell_type": "markdown",
   "id": "6ba5a3dc",
   "metadata": {},
   "source": [
    "### Load Dataset"
   ]
  },
  {
   "cell_type": "code",
   "execution_count": 3,
   "id": "c429355c",
   "metadata": {},
   "outputs": [],
   "source": [
    "path = 'heart_disease_uci.csv'\n",
    "df = pd.read_csv(path)"
   ]
  },
  {
   "cell_type": "markdown",
   "id": "940955fb",
   "metadata": {},
   "source": [
    "### Data Inspection"
   ]
  },
  {
   "cell_type": "code",
   "execution_count": 4,
   "id": "50232602",
   "metadata": {},
   "outputs": [
    {
     "name": "stdout",
     "output_type": "stream",
     "text": [
      "(920, 16)\n"
     ]
    }
   ],
   "source": [
    "print(df.shape)"
   ]
  },
  {
   "cell_type": "code",
   "execution_count": 5,
   "id": "bccd8b6e",
   "metadata": {},
   "outputs": [
    {
     "name": "stdout",
     "output_type": "stream",
     "text": [
      "<class 'pandas.core.frame.DataFrame'>\n",
      "RangeIndex: 920 entries, 0 to 919\n",
      "Data columns (total 16 columns):\n",
      " #   Column    Non-Null Count  Dtype  \n",
      "---  ------    --------------  -----  \n",
      " 0   id        920 non-null    int64  \n",
      " 1   age       920 non-null    int64  \n",
      " 2   sex       920 non-null    object \n",
      " 3   dataset   920 non-null    object \n",
      " 4   cp        920 non-null    object \n",
      " 5   trestbps  861 non-null    float64\n",
      " 6   chol      890 non-null    float64\n",
      " 7   fbs       830 non-null    object \n",
      " 8   restecg   918 non-null    object \n",
      " 9   thalch    865 non-null    float64\n",
      " 10  exang     865 non-null    object \n",
      " 11  oldpeak   858 non-null    float64\n",
      " 12  slope     611 non-null    object \n",
      " 13  ca        309 non-null    float64\n",
      " 14  thal      434 non-null    object \n",
      " 15  num       920 non-null    int64  \n",
      "dtypes: float64(5), int64(3), object(8)\n",
      "memory usage: 115.1+ KB\n",
      "None\n"
     ]
    }
   ],
   "source": [
    "print(df.info())"
   ]
  },
  {
   "cell_type": "code",
   "execution_count": 6,
   "id": "40f2925d",
   "metadata": {},
   "outputs": [
    {
     "name": "stdout",
     "output_type": "stream",
     "text": [
      "               id         age    trestbps        chol      thalch     oldpeak  \\\n",
      "count  920.000000  920.000000  861.000000  890.000000  865.000000  858.000000   \n",
      "mean   460.500000   53.510870  132.132404  199.130337  137.545665    0.878788   \n",
      "std    265.725422    9.424685   19.066070  110.780810   25.926276    1.091226   \n",
      "min      1.000000   28.000000    0.000000    0.000000   60.000000   -2.600000   \n",
      "25%    230.750000   47.000000  120.000000  175.000000  120.000000    0.000000   \n",
      "50%    460.500000   54.000000  130.000000  223.000000  140.000000    0.500000   \n",
      "75%    690.250000   60.000000  140.000000  268.000000  157.000000    1.500000   \n",
      "max    920.000000   77.000000  200.000000  603.000000  202.000000    6.200000   \n",
      "\n",
      "               ca         num  \n",
      "count  309.000000  920.000000  \n",
      "mean     0.676375    0.995652  \n",
      "std      0.935653    1.142693  \n",
      "min      0.000000    0.000000  \n",
      "25%      0.000000    0.000000  \n",
      "50%      0.000000    1.000000  \n",
      "75%      1.000000    2.000000  \n",
      "max      3.000000    4.000000  \n"
     ]
    }
   ],
   "source": [
    "print(df.describe())"
   ]
  },
  {
   "cell_type": "code",
   "execution_count": 7,
   "id": "71ee95ea",
   "metadata": {},
   "outputs": [
    {
     "name": "stdout",
     "output_type": "stream",
     "text": [
      "   id  age     sex    dataset               cp  trestbps   chol    fbs  \\\n",
      "0   1   63    Male  Cleveland   typical angina     145.0  233.0   True   \n",
      "1   2   67    Male  Cleveland     asymptomatic     160.0  286.0  False   \n",
      "2   3   67    Male  Cleveland     asymptomatic     120.0  229.0  False   \n",
      "3   4   37    Male  Cleveland      non-anginal     130.0  250.0  False   \n",
      "4   5   41  Female  Cleveland  atypical angina     130.0  204.0  False   \n",
      "\n",
      "          restecg  thalch  exang  oldpeak        slope   ca  \\\n",
      "0  lv hypertrophy   150.0  False      2.3  downsloping  0.0   \n",
      "1  lv hypertrophy   108.0   True      1.5         flat  3.0   \n",
      "2  lv hypertrophy   129.0   True      2.6         flat  2.0   \n",
      "3          normal   187.0  False      3.5  downsloping  0.0   \n",
      "4  lv hypertrophy   172.0  False      1.4    upsloping  0.0   \n",
      "\n",
      "                thal  num  \n",
      "0       fixed defect    0  \n",
      "1             normal    2  \n",
      "2  reversable defect    1  \n",
      "3             normal    0  \n",
      "4             normal    0  \n"
     ]
    }
   ],
   "source": [
    "print(df.head())"
   ]
  },
  {
   "cell_type": "markdown",
   "id": "7d83732a",
   "metadata": {},
   "source": [
    "### Drop Index Column"
   ]
  },
  {
   "cell_type": "code",
   "execution_count": 8,
   "id": "cb66260b",
   "metadata": {},
   "outputs": [],
   "source": [
    "df.drop('id', axis=1, inplace=True)"
   ]
  },
  {
   "cell_type": "markdown",
   "id": "de05ff56",
   "metadata": {},
   "source": [
    "### Class balance"
   ]
  },
  {
   "cell_type": "code",
   "execution_count": 10,
   "id": "fa4e5af6",
   "metadata": {},
   "outputs": [
    {
     "data": {
      "text/plain": [
       "Text(0.5, 1.0, 'Distribution of Heart Disease Classes')"
      ]
     },
     "execution_count": 10,
     "metadata": {},
     "output_type": "execute_result"
    },
    {
     "data": {
      "image/png": "[encoded data removed]",
      "text/plain": [
       "<Figure size 1000x600 with 1 Axes>"
      ]
     },
     "metadata": {},
     "output_type": "display_data"
    }
   ],
   "source": [
    "counts = df['num'].value_counts().sort_index()\n",
    "percentages = df['num'].value_counts(normalize=True).sort_index() * 100\n",
    "plt.figure(figsize=(10, 6))\n",
    "sns.barplot(x=counts.index, y=counts.values)\n",
    "plt.xlabel('num')\n",
    "plt.ylabel('Count')\n",
    "plt.title('Distribution of Heart Disease Classes')"
   ]
  },
  {
   "cell_type": "markdown",
   "id": "7e4d6708",
   "metadata": {},
   "source": [
    "### Correlation Heatmap"
   ]
  },
  {
   "cell_type": "code",
   "execution_count": 11,
   "id": "0f1019a3",
   "metadata": {},
   "outputs": [
    {
     "data": {
      "image/png": "[encoded data removed]",
      "text/plain": [
       "<Figure size 1200x1000 with 2 Axes>"
      ]
     },
     "metadata": {},
     "output_type": "display_data"
    }
   ],
   "source": [
    "corr = df.corr(numeric_only=True)\n",
    "plt.figure(figsize=(12, 10))\n",
    "sns.heatmap(corr, annot=True, fmt=\".2f\", cmap=\"bwr\", center=0, square=True)\n",
    "plt.title(\"Correlation Matrix\")\n",
    "plt.show()"
   ]
  },
  {
   "cell_type": "markdown",
   "id": "4a5401c3",
   "metadata": {},
   "source": [
    "## Data Preprocessing"
   ]
  },
  {
   "cell_type": "markdown",
   "id": "80557b5e",
   "metadata": {},
   "source": [
    "### Separating Features and Target Variable"
   ]
  },
  {
   "cell_type": "code",
   "execution_count": 12,
   "id": "b1a95286",
   "metadata": {},
   "outputs": [],
   "source": [
    "X = df.drop('num', axis=1)\n",
    "y = df['num']"
   ]
  },
  {
   "cell_type": "markdown",
   "id": "c58ec00d",
   "metadata": {},
   "source": [
    "### Identifying Data Types"
   ]
  },
  {
   "cell_type": "code",
   "execution_count": 13,
   "id": "eec89ca1",
   "metadata": {},
   "outputs": [
    {
     "name": "stdout",
     "output_type": "stream",
     "text": [
      "Categorical columns: ['sex' 'dataset' 'cp' 'fbs' 'restecg' 'exang' 'slope' 'thal']\n",
      "Numerical columns: ['age' 'trestbps' 'chol' 'thalch' 'oldpeak' 'ca']\n"
     ]
    }
   ],
   "source": [
    "cat_cols = np.array(X.select_dtypes(include=['object']).columns.tolist())\n",
    "numeric_cols = np.array(X.select_dtypes(include=['int64', 'float64']).columns.tolist())\n",
    "print(f\"Categorical columns: {cat_cols}\")\n",
    "print(f\"Numerical columns: {numeric_cols}\")"
   ]
  },
  {
   "cell_type": "markdown",
   "id": "e1319324",
   "metadata": {},
   "source": [
    "### Handling Missing Values"
   ]
  },
  {
   "cell_type": "code",
   "execution_count": 14,
   "id": "4e88e0a6",
   "metadata": {},
   "outputs": [],
   "source": [
    "\n",
    "num_imputer = IterativeImputer(max_iter=10, random_state=715)\n",
    "cat_imputer = SimpleImputer(strategy='most_frequent')\n",
    "X_num = num_imputer.fit_transform(df[numeric_cols])\n",
    "X_cat = cat_imputer.fit_transform(df[cat_cols])"
   ]
  },
  {
   "cell_type": "markdown",
   "id": "c9d953fe",
   "metadata": {},
   "source": [
    "### One-Hot Encoding of Categorical Variables"
   ]
  },
  {
   "cell_type": "code",
   "execution_count": 15,
   "id": "d1b3fba0",
   "metadata": {},
   "outputs": [],
   "source": [
    "encoder = OneHotEncoder(sparse_output=False, handle_unknown='ignore')\n",
    "X_cat = pd.DataFrame(encoder.fit_transform(X_cat))"
   ]
  },
  {
   "cell_type": "markdown",
   "id": "9fb1baf0",
   "metadata": {},
   "source": [
    "### Scaling Numerical Features"
   ]
  },
  {
   "cell_type": "code",
   "execution_count": 16,
   "id": "ffc86bde",
   "metadata": {},
   "outputs": [],
   "source": [
    "scaler = StandardScaler()\n",
    "X_num = pd.DataFrame(scaler.fit_transform(X_num))"
   ]
  },
  {
   "cell_type": "markdown",
   "id": "e3f0b8fd",
   "metadata": {},
   "source": [
    "### Concatenating Preprocessed Data"
   ]
  },
  {
   "cell_type": "code",
   "execution_count": 17,
   "id": "d28d08ac",
   "metadata": {},
   "outputs": [],
   "source": [
    "X = pd.concat([X_num, X_cat], axis=1)"
   ]
  },
  {
   "cell_type": "markdown",
   "id": "15945c09",
   "metadata": {},
   "source": [
    "### SMOTE"
   ]
  },
  {
   "cell_type": "code",
   "execution_count": 18,
   "id": "e771c8c2",
   "metadata": {},
   "outputs": [
    {
     "name": "stderr",
     "output_type": "stream",
     "text": [
      "c:\\Users\\Zesyrus\\AppData\\Local\\Programs\\Python\\Python313\\Lib\\site-packages\\joblib\\externals\\loky\\backend\\context.py:136: UserWarning: Could not find the number of physical cores for the following reason:\n",
      "[WinError 2] The system cannot find the file specified\n",
      "Returning the number of logical cores instead. You can silence this warning by setting LOKY_MAX_CPU_COUNT to the number of cores you want to use.\n",
      "  warnings.warn(\n",
      "  File \"c:\\Users\\Zesyrus\\AppData\\Local\\Programs\\Python\\Python313\\Lib\\site-packages\\joblib\\externals\\loky\\backend\\context.py\", line 257, in _count_physical_cores\n",
      "    cpu_info = subprocess.run(\n",
      "        \"wmic CPU Get NumberOfCores /Format:csv\".split(),\n",
      "        capture_output=True,\n",
      "        text=True,\n",
      "    )\n",
      "  File \"c:\\Users\\Zesyrus\\AppData\\Local\\Programs\\Python\\Python313\\Lib\\subprocess.py\", line 556, in run\n",
      "    with Popen(*popenargs, **kwargs) as process:\n",
      "         ~~~~~^^^^^^^^^^^^^^^^^^^^^^\n",
      "  File \"c:\\Users\\Zesyrus\\AppData\\Local\\Programs\\Python\\Python313\\Lib\\subprocess.py\", line 1038, in __init__\n",
      "    self._execute_child(args, executable, preexec_fn, close_fds,\n",
      "    ~~~~~~~~~~~~~~~~~~~^^^^^^^^^^^^^^^^^^^^^^^^^^^^^^^^^^^^^^^^^\n",
      "                        pass_fds, cwd, env,\n",
      "                        ^^^^^^^^^^^^^^^^^^^\n",
      "    ...<5 lines>...\n",
      "                        gid, gids, uid, umask,\n",
      "                        ^^^^^^^^^^^^^^^^^^^^^^\n",
      "                        start_new_session, process_group)\n",
      "                        ^^^^^^^^^^^^^^^^^^^^^^^^^^^^^^^^^\n",
      "  File \"c:\\Users\\Zesyrus\\AppData\\Local\\Programs\\Python\\Python313\\Lib\\subprocess.py\", line 1550, in _execute_child\n",
      "    hp, ht, pid, tid = _winapi.CreateProcess(executable, args,\n",
      "                       ~~~~~~~~~~~~~~~~~~~~~^^^^^^^^^^^^^^^^^^\n",
      "                             # no special security\n",
      "                             ^^^^^^^^^^^^^^^^^^^^^\n",
      "    ...<4 lines>...\n",
      "                             cwd,\n",
      "                             ^^^^\n",
      "                             startupinfo)\n",
      "                             ^^^^^^^^^^^^\n"
     ]
    }
   ],
   "source": [
    "smote = SMOTE(random_state=715)\n",
    "X_resampled, y_resampled = smote.fit_resample(X, y)\n"
   ]
  },
  {
   "cell_type": "markdown",
   "id": "264247c0",
   "metadata": {},
   "source": [
    "### Train-Test Split"
   ]
  },
  {
   "cell_type": "code",
   "execution_count": 19,
   "id": "e52d580d",
   "metadata": {},
   "outputs": [],
   "source": [
    "X_train, X_test, y_train, y_test = train_test_split(X_resampled, y_resampled, test_size=0.2, stratify=y_resampled, random_state=715)"
   ]
  },
  {
   "cell_type": "markdown",
   "id": "209b6f7d",
   "metadata": {},
   "source": [
    "### Loading Data into PyTorch"
   ]
  },
  {
   "cell_type": "code",
   "execution_count": 20,
   "id": "080af39c",
   "metadata": {},
   "outputs": [],
   "source": [
    "class heart_dataset(Dataset):\n",
    "    def __init__(self, features, targets):\n",
    "        self.X = torch.tensor(features.values, dtype=torch.float32)\n",
    "        self.y = torch.tensor(targets.values, dtype=torch.long)\n",
    "    def __len__(self):\n",
    "        return len(self.y)\n",
    "    def __getitem__(self, idx):\n",
    "        return self.X[idx], self.y[idx]\n",
    "    \n",
    "train_dataset = heart_dataset(X_train, y_train)\n",
    "test_dataset  = heart_dataset(X_test, y_test)\n",
    "\n",
    "batch_size = 32\n",
    "train_loader = DataLoader(train_dataset, batch_size=batch_size, shuffle=True)\n",
    "test_loader  = DataLoader(test_dataset,  batch_size=batch_size, shuffle=False)"
   ]
  },
  {
   "cell_type": "markdown",
   "id": "1c19ca06",
   "metadata": {},
   "source": [
    "## Model Definition\n",
    "\n",
    "We will define a fully connected neural network using PyTorch with the following architecture:\n",
    "\n",
    "- Input layer size equal to the number of input features  \n",
    "- Two hidden layers with ReLU activations  \n",
    "- One output neuron with sigmoid activation for binary classification  \n"
   ]
  },
  {
   "cell_type": "code",
   "execution_count": 21,
   "id": "e06f8b86",
   "metadata": {},
   "outputs": [],
   "source": [
    "class HeartDiseaseNet(nn.Module):\n",
    "    def __init__(self, input_dim, hidden1=128, hidden2=64, hidden3=32, output_dim=5):\n",
    "        super(HeartDiseaseNet, self).__init__()\n",
    "        self.network = nn.Sequential(\n",
    "            nn.Linear(input_dim, hidden1),\n",
    "            nn.ReLU(),\n",
    "            nn.Linear(hidden1, hidden2),\n",
    "            nn.ReLU(),\n",
    "            nn.Linear(hidden2, hidden3),\n",
    "            nn.ReLU(),\n",
    "            nn.Linear(hidden3, output_dim)\n",
    "        )\n",
    "\n",
    "    def forward(self, x):\n",
    "        return self.network(x)\n",
    "\n",
    "input_size = X_resampled.shape[1]\n",
    "model = HeartDiseaseNet(input_dim=input_size).to(device)"
   ]
  },
  {
   "cell_type": "markdown",
   "id": "d9be8ce0",
   "metadata": {},
   "source": [
    "## Training Loop\n",
    "\n",
    "In this section, we define the loss function, optimizer, and the training loop that updates the model weights. The model is trained over a fixed number of epochs using binary cross-entropy loss and the Adam optimizer.\n"
   ]
  },
  {
   "cell_type": "code",
   "execution_count": 22,
   "id": "ebbe25e4",
   "metadata": {},
   "outputs": [],
   "source": [
    "num_epochs = 100\n",
    "learning_rate = 0.001\n",
    "\n",
    "class_weights = compute_class_weight(\n",
    "    class_weight='balanced',\n",
    "    classes=np.unique(y_train),\n",
    "    y=y_train\n",
    ")\n",
    "class_weights = torch.tensor(class_weights, dtype=torch.float32).to(device)\n",
    "\n",
    "criterion = nn.CrossEntropyLoss(weight=class_weights)\n",
    "\n",
    "optimizer = optim.Adam(model.parameters(), lr=learning_rate)\n",
    "\n",
    "train_losses = []\n",
    "\n",
    "model.train()\n",
    "for epoch in range(num_epochs):\n",
    "    epoch_loss = 0.0\n",
    "    for batch_X, batch_y in train_loader:\n",
    "        batch_X, batch_y = batch_X.to(device), batch_y.to(device)\n",
    "        \n",
    "        outputs = model(batch_X) \n",
    "        loss = criterion(outputs, batch_y)  \n",
    "\n",
    "        optimizer.zero_grad()\n",
    "        loss.backward()\n",
    "        optimizer.step()\n",
    "\n",
    "        epoch_loss += loss.item() * batch_X.size(0)\n",
    "\n",
    "    avg_loss = epoch_loss / len(train_loader.dataset)\n",
    "    train_losses.append(avg_loss)\n"
   ]
  },
  {
   "cell_type": "markdown",
   "id": "1a991def",
   "metadata": {},
   "source": [
    "## Validation & Evaluation\n",
    "\n",
    "In this section, we evaluate the trained model on the test set using standard multi-class metrics:\n",
    "\n",
    "- Accuracy  \n",
    "- Precision, Recall, F1-score  \n",
    "- Confusion Matrix  \n",
    "- Classification Report  \n"
   ]
  },
  {
   "cell_type": "code",
   "execution_count": 23,
   "id": "7e6cb4b8",
   "metadata": {},
   "outputs": [
    {
     "name": "stdout",
     "output_type": "stream",
     "text": [
      "Test Accuracy: 0.8662\n"
     ]
    }
   ],
   "source": [
    "model.eval()\n",
    "all_preds = []\n",
    "all_labels = []\n",
    "\n",
    "with torch.no_grad():\n",
    "    for batch_X, batch_y in test_loader:\n",
    "        batch_X = batch_X.to(device)\n",
    "        outputs = model(batch_X)\n",
    "        preds = torch.argmax(outputs, dim=1).cpu().numpy()\n",
    "        labels = batch_y.numpy()\n",
    "        \n",
    "        all_preds.extend(preds)\n",
    "        all_labels.extend(labels)\n",
    "\n",
    "accuracy = accuracy_score(all_labels, all_preds)\n",
    "print(\"Test Accuracy:\", round(accuracy, 4))"
   ]
  },
  {
   "cell_type": "code",
   "execution_count": 24,
   "id": "60f748c0",
   "metadata": {},
   "outputs": [
    {
     "name": "stdout",
     "output_type": "stream",
     "text": [
      "Classification Report:\n",
      "               precision    recall  f1-score   support\n",
      "\n",
      "           0     0.8571    0.7317    0.7895        82\n",
      "           1     0.7253    0.8049    0.7630        82\n",
      "           2     0.9351    0.8780    0.9057        82\n",
      "           3     0.8556    0.9277    0.8902        83\n",
      "           4     0.9759    0.9878    0.9818        82\n",
      "\n",
      "    accuracy                         0.8662       411\n",
      "   macro avg     0.8698    0.8660    0.8660       411\n",
      "weighted avg     0.8698    0.8662    0.8661       411\n",
      "\n"
     ]
    }
   ],
   "source": [
    "report = classification_report(all_labels, all_preds, digits=4)\n",
    "print(\"Classification Report:\\n\", report)\n"
   ]
  },
  {
   "cell_type": "code",
   "execution_count": 25,
   "id": "4605e268",
   "metadata": {},
   "outputs": [
    {
     "data": {
      "image/png": "[encoded data removed]",
      "text/plain": [
       "<Figure size 800x600 with 2 Axes>"
      ]
     },
     "metadata": {},
     "output_type": "display_data"
    }
   ],
   "source": [
    "cm = confusion_matrix(all_labels, all_preds)\n",
    "\n",
    "plt.figure(figsize=(8, 6))\n",
    "sns.heatmap(cm, annot=True, fmt=\"d\", cmap=\"Blues\", xticklabels=range(5), yticklabels=range(5))\n",
    "plt.xlabel(\"Predicted Label\")\n",
    "plt.ylabel(\"True Label\")\n",
    "plt.title(\"Confusion Matrix\")\n",
    "plt.show()\n"
   ]
  },
  {
   "cell_type": "markdown",
   "id": "65569560",
   "metadata": {},
   "source": [
    "## Hyperparameter Experiments\n",
    "\n",
    "In this section, we explore the impact of varying key hyperparameters on model performance. We will focus on:\n",
    "\n",
    "- Hidden layer sizes\n",
    "- Learning rate\n",
    "- Batch size\n",
    "\n",
    "The goal is to identify configurations that yield better generalization on the validation set.\n"
   ]
  },
  {
   "cell_type": "code",
   "execution_count": 26,
   "id": "1e6fef2f",
   "metadata": {},
   "outputs": [],
   "source": [
    "def run_experiment(hidden1, hidden2, hidden3, lr, batch_size, num_epochs=30):\n",
    "    model = HeartDiseaseNet(\n",
    "        input_dim=X_train.shape[1],\n",
    "        hidden1=hidden1,\n",
    "        hidden2=hidden2,\n",
    "        hidden3=hidden3\n",
    "    ).to(device)\n",
    "\n",
    "    train_dataset = heart_dataset(X_train, y_train)\n",
    "    test_dataset = heart_dataset(X_test, y_test)\n",
    "\n",
    "    train_loader = DataLoader(train_dataset, batch_size=batch_size, shuffle=True)\n",
    "    test_loader = DataLoader(test_dataset, batch_size=batch_size, shuffle=False)\n",
    "\n",
    "    criterion = nn.CrossEntropyLoss(weight=class_weights)\n",
    "    optimizer = optim.Adam(model.parameters(), lr=lr)\n",
    "\n",
    "    model.train()\n",
    "    for epoch in range(num_epochs):\n",
    "        for batch_X, batch_y in train_loader:\n",
    "            batch_X, batch_y = batch_X.to(device), batch_y.to(device)\n",
    "\n",
    "            outputs = model(batch_X)\n",
    "            loss = criterion(outputs, batch_y)\n",
    "\n",
    "            optimizer.zero_grad()\n",
    "            loss.backward()\n",
    "            optimizer.step()\n",
    "\n",
    "    model.eval()\n",
    "    all_preds, all_labels = [], []\n",
    "    with torch.no_grad():\n",
    "        for batch_X, batch_y in test_loader:\n",
    "            batch_X = batch_X.to(device)\n",
    "            outputs = model(batch_X)\n",
    "            preds = torch.argmax(outputs, dim=1).cpu().numpy()\n",
    "            labels = batch_y.numpy()\n",
    "\n",
    "            all_preds.extend(preds)\n",
    "            all_labels.extend(labels)\n",
    "\n",
    "    return f1_score(all_labels, all_preds, average='macro')\n"
   ]
  },
  {
   "cell_type": "code",
   "execution_count": 27,
   "id": "b8eaa391",
   "metadata": {},
   "outputs": [],
   "source": [
    "hidden_sizes = [(128, 64, 32), (256, 128, 64), (64, 32, 16)]\n",
    "learning_rates = [1e-3, 5e-4, 1e-4]\n",
    "batch_sizes = [16, 32, 64]\n",
    "\n",
    "results = []\n",
    "\n",
    "for hs in hidden_sizes:\n",
    "    for lr in learning_rates:\n",
    "        for bs in batch_sizes:\n",
    "            f1 = run_experiment(*hs, lr, bs)\n",
    "            results.append({\n",
    "                \"Hidden Layers\": hs,\n",
    "                \"LR\": lr,\n",
    "                \"Batch Size\": bs,\n",
    "                \"Macro F1\": round(f1, 4)\n",
    "            })\n"
   ]
  },
  {
   "cell_type": "code",
   "execution_count": 28,
   "id": "b1236ad6",
   "metadata": {},
   "outputs": [
    {
     "data": {
      "application/vnd.microsoft.datawrangler.viewer.v0+json": {
       "columns": [
        {
         "name": "index",
         "rawType": "int64",
         "type": "integer"
        },
        {
         "name": "Hidden Layers",
         "rawType": "object",
         "type": "unknown"
        },
        {
         "name": "LR",
         "rawType": "float64",
         "type": "float"
        },
        {
         "name": "Batch Size",
         "rawType": "int64",
         "type": "integer"
        },
        {
         "name": "Macro F1",
         "rawType": "float64",
         "type": "float"
        }
       ],
       "ref": "7610674e-c69a-4f3f-abc5-6f88c1250506",
       "rows": [
        [
         "0",
         "(256, 128, 64)",
         "0.001",
         "32",
         "0.8751"
        ],
        [
         "1",
         "(256, 128, 64)",
         "0.001",
         "16",
         "0.8716"
        ],
        [
         "2",
         "(256, 128, 64)",
         "0.001",
         "64",
         "0.8606"
        ],
        [
         "3",
         "(128, 64, 32)",
         "0.001",
         "16",
         "0.8593"
        ],
        [
         "4",
         "(256, 128, 64)",
         "0.0005",
         "16",
         "0.8519"
        ],
        [
         "5",
         "(128, 64, 32)",
         "0.001",
         "32",
         "0.8499"
        ],
        [
         "6",
         "(256, 128, 64)",
         "0.0005",
         "32",
         "0.8333"
        ],
        [
         "7",
         "(64, 32, 16)",
         "0.001",
         "16",
         "0.8254"
        ],
        [
         "8",
         "(256, 128, 64)",
         "0.0005",
         "64",
         "0.8132"
        ],
        [
         "9",
         "(128, 64, 32)",
         "0.0005",
         "16",
         "0.8103"
        ],
        [
         "10",
         "(128, 64, 32)",
         "0.001",
         "64",
         "0.8067"
        ],
        [
         "11",
         "(64, 32, 16)",
         "0.001",
         "32",
         "0.8066"
        ],
        [
         "12",
         "(128, 64, 32)",
         "0.0005",
         "32",
         "0.779"
        ],
        [
         "13",
         "(256, 128, 64)",
         "0.0001",
         "16",
         "0.7519"
        ],
        [
         "14",
         "(64, 32, 16)",
         "0.0005",
         "16",
         "0.7393"
        ],
        [
         "15",
         "(128, 64, 32)",
         "0.0005",
         "64",
         "0.7158"
        ],
        [
         "16",
         "(256, 128, 64)",
         "0.0001",
         "32",
         "0.7019"
        ],
        [
         "17",
         "(64, 32, 16)",
         "0.0005",
         "32",
         "0.6971"
        ],
        [
         "18",
         "(64, 32, 16)",
         "0.001",
         "64",
         "0.6894"
        ],
        [
         "19",
         "(64, 32, 16)",
         "0.0005",
         "64",
         "0.6773"
        ],
        [
         "20",
         "(128, 64, 32)",
         "0.0001",
         "16",
         "0.6578"
        ],
        [
         "21",
         "(256, 128, 64)",
         "0.0001",
         "64",
         "0.6553"
        ],
        [
         "22",
         "(128, 64, 32)",
         "0.0001",
         "32",
         "0.6264"
        ],
        [
         "23",
         "(128, 64, 32)",
         "0.0001",
         "64",
         "0.6006"
        ],
        [
         "24",
         "(64, 32, 16)",
         "0.0001",
         "16",
         "0.5773"
        ],
        [
         "25",
         "(64, 32, 16)",
         "0.0001",
         "32",
         "0.5654"
        ],
        [
         "26",
         "(64, 32, 16)",
         "0.0001",
         "64",
         "0.492"
        ]
       ],
       "shape": {
        "columns": 4,
        "rows": 27
       }
      },
      "text/html": [
       "<div>\n",
       "<style scoped>\n",
       "    .dataframe tbody tr th:only-of-type {\n",
       "        vertical-align: middle;\n",
       "    }\n",
       "\n",
       "    .dataframe tbody tr th {\n",
       "        vertical-align: top;\n",
       "    }\n",
       "\n",
       "    .dataframe thead th {\n",
       "        text-align: right;\n",
       "    }\n",
       "</style>\n",
       "<table border=\"1\" class=\"dataframe\">\n",
       "  <thead>\n",
       "    <tr style=\"text-align: right;\">\n",
       "      <th></th>\n",
       "      <th>Hidden Layers</th>\n",
       "      <th>LR</th>\n",
       "      <th>Batch Size</th>\n",
       "      <th>Macro F1</th>\n",
       "    </tr>\n",
       "  </thead>\n",
       "  <tbody>\n",
       "    <tr>\n",
       "      <th>0</th>\n",
       "      <td>(256, 128, 64)</td>\n",
       "      <td>0.0010</td>\n",
       "      <td>32</td>\n",
       "      <td>0.8751</td>\n",
       "    </tr>\n",
       "    <tr>\n",
       "      <th>1</th>\n",
       "      <td>(256, 128, 64)</td>\n",
       "      <td>0.0010</td>\n",
       "      <td>16</td>\n",
       "      <td>0.8716</td>\n",
       "    </tr>\n",
       "    <tr>\n",
       "      <th>2</th>\n",
       "      <td>(256, 128, 64)</td>\n",
       "      <td>0.0010</td>\n",
       "      <td>64</td>\n",
       "      <td>0.8606</td>\n",
       "    </tr>\n",
       "    <tr>\n",
       "      <th>3</th>\n",
       "      <td>(128, 64, 32)</td>\n",
       "      <td>0.0010</td>\n",
       "      <td>16</td>\n",
       "      <td>0.8593</td>\n",
       "    </tr>\n",
       "    <tr>\n",
       "      <th>4</th>\n",
       "      <td>(256, 128, 64)</td>\n",
       "      <td>0.0005</td>\n",
       "      <td>16</td>\n",
       "      <td>0.8519</td>\n",
       "    </tr>\n",
       "    <tr>\n",
       "      <th>5</th>\n",
       "      <td>(128, 64, 32)</td>\n",
       "      <td>0.0010</td>\n",
       "      <td>32</td>\n",
       "      <td>0.8499</td>\n",
       "    </tr>\n",
       "    <tr>\n",
       "      <th>6</th>\n",
       "      <td>(256, 128, 64)</td>\n",
       "      <td>0.0005</td>\n",
       "      <td>32</td>\n",
       "      <td>0.8333</td>\n",
       "    </tr>\n",
       "    <tr>\n",
       "      <th>7</th>\n",
       "      <td>(64, 32, 16)</td>\n",
       "      <td>0.0010</td>\n",
       "      <td>16</td>\n",
       "      <td>0.8254</td>\n",
       "    </tr>\n",
       "    <tr>\n",
       "      <th>8</th>\n",
       "      <td>(256, 128, 64)</td>\n",
       "      <td>0.0005</td>\n",
       "      <td>64</td>\n",
       "      <td>0.8132</td>\n",
       "    </tr>\n",
       "    <tr>\n",
       "      <th>9</th>\n",
       "      <td>(128, 64, 32)</td>\n",
       "      <td>0.0005</td>\n",
       "      <td>16</td>\n",
       "      <td>0.8103</td>\n",
       "    </tr>\n",
       "    <tr>\n",
       "      <th>10</th>\n",
       "      <td>(128, 64, 32)</td>\n",
       "      <td>0.0010</td>\n",
       "      <td>64</td>\n",
       "      <td>0.8067</td>\n",
       "    </tr>\n",
       "    <tr>\n",
       "      <th>11</th>\n",
       "      <td>(64, 32, 16)</td>\n",
       "      <td>0.0010</td>\n",
       "      <td>32</td>\n",
       "      <td>0.8066</td>\n",
       "    </tr>\n",
       "    <tr>\n",
       "      <th>12</th>\n",
       "      <td>(128, 64, 32)</td>\n",
       "      <td>0.0005</td>\n",
       "      <td>32</td>\n",
       "      <td>0.7790</td>\n",
       "    </tr>\n",
       "    <tr>\n",
       "      <th>13</th>\n",
       "      <td>(256, 128, 64)</td>\n",
       "      <td>0.0001</td>\n",
       "      <td>16</td>\n",
       "      <td>0.7519</td>\n",
       "    </tr>\n",
       "    <tr>\n",
       "      <th>14</th>\n",
       "      <td>(64, 32, 16)</td>\n",
       "      <td>0.0005</td>\n",
       "      <td>16</td>\n",
       "      <td>0.7393</td>\n",
       "    </tr>\n",
       "    <tr>\n",
       "      <th>15</th>\n",
       "      <td>(128, 64, 32)</td>\n",
       "      <td>0.0005</td>\n",
       "      <td>64</td>\n",
       "      <td>0.7158</td>\n",
       "    </tr>\n",
       "    <tr>\n",
       "      <th>16</th>\n",
       "      <td>(256, 128, 64)</td>\n",
       "      <td>0.0001</td>\n",
       "      <td>32</td>\n",
       "      <td>0.7019</td>\n",
       "    </tr>\n",
       "    <tr>\n",
       "      <th>17</th>\n",
       "      <td>(64, 32, 16)</td>\n",
       "      <td>0.0005</td>\n",
       "      <td>32</td>\n",
       "      <td>0.6971</td>\n",
       "    </tr>\n",
       "    <tr>\n",
       "      <th>18</th>\n",
       "      <td>(64, 32, 16)</td>\n",
       "      <td>0.0010</td>\n",
       "      <td>64</td>\n",
       "      <td>0.6894</td>\n",
       "    </tr>\n",
       "    <tr>\n",
       "      <th>19</th>\n",
       "      <td>(64, 32, 16)</td>\n",
       "      <td>0.0005</td>\n",
       "      <td>64</td>\n",
       "      <td>0.6773</td>\n",
       "    </tr>\n",
       "    <tr>\n",
       "      <th>20</th>\n",
       "      <td>(128, 64, 32)</td>\n",
       "      <td>0.0001</td>\n",
       "      <td>16</td>\n",
       "      <td>0.6578</td>\n",
       "    </tr>\n",
       "    <tr>\n",
       "      <th>21</th>\n",
       "      <td>(256, 128, 64)</td>\n",
       "      <td>0.0001</td>\n",
       "      <td>64</td>\n",
       "      <td>0.6553</td>\n",
       "    </tr>\n",
       "    <tr>\n",
       "      <th>22</th>\n",
       "      <td>(128, 64, 32)</td>\n",
       "      <td>0.0001</td>\n",
       "      <td>32</td>\n",
       "      <td>0.6264</td>\n",
       "    </tr>\n",
       "    <tr>\n",
       "      <th>23</th>\n",
       "      <td>(128, 64, 32)</td>\n",
       "      <td>0.0001</td>\n",
       "      <td>64</td>\n",
       "      <td>0.6006</td>\n",
       "    </tr>\n",
       "    <tr>\n",
       "      <th>24</th>\n",
       "      <td>(64, 32, 16)</td>\n",
       "      <td>0.0001</td>\n",
       "      <td>16</td>\n",
       "      <td>0.5773</td>\n",
       "    </tr>\n",
       "    <tr>\n",
       "      <th>25</th>\n",
       "      <td>(64, 32, 16)</td>\n",
       "      <td>0.0001</td>\n",
       "      <td>32</td>\n",
       "      <td>0.5654</td>\n",
       "    </tr>\n",
       "    <tr>\n",
       "      <th>26</th>\n",
       "      <td>(64, 32, 16)</td>\n",
       "      <td>0.0001</td>\n",
       "      <td>64</td>\n",
       "      <td>0.4920</td>\n",
       "    </tr>\n",
       "  </tbody>\n",
       "</table>\n",
       "</div>"
      ],
      "text/plain": [
       "     Hidden Layers      LR  Batch Size  Macro F1\n",
       "0   (256, 128, 64)  0.0010          32    0.8751\n",
       "1   (256, 128, 64)  0.0010          16    0.8716\n",
       "2   (256, 128, 64)  0.0010          64    0.8606\n",
       "3    (128, 64, 32)  0.0010          16    0.8593\n",
       "4   (256, 128, 64)  0.0005          16    0.8519\n",
       "5    (128, 64, 32)  0.0010          32    0.8499\n",
       "6   (256, 128, 64)  0.0005          32    0.8333\n",
       "7     (64, 32, 16)  0.0010          16    0.8254\n",
       "8   (256, 128, 64)  0.0005          64    0.8132\n",
       "9    (128, 64, 32)  0.0005          16    0.8103\n",
       "10   (128, 64, 32)  0.0010          64    0.8067\n",
       "11    (64, 32, 16)  0.0010          32    0.8066\n",
       "12   (128, 64, 32)  0.0005          32    0.7790\n",
       "13  (256, 128, 64)  0.0001          16    0.7519\n",
       "14    (64, 32, 16)  0.0005          16    0.7393\n",
       "15   (128, 64, 32)  0.0005          64    0.7158\n",
       "16  (256, 128, 64)  0.0001          32    0.7019\n",
       "17    (64, 32, 16)  0.0005          32    0.6971\n",
       "18    (64, 32, 16)  0.0010          64    0.6894\n",
       "19    (64, 32, 16)  0.0005          64    0.6773\n",
       "20   (128, 64, 32)  0.0001          16    0.6578\n",
       "21  (256, 128, 64)  0.0001          64    0.6553\n",
       "22   (128, 64, 32)  0.0001          32    0.6264\n",
       "23   (128, 64, 32)  0.0001          64    0.6006\n",
       "24    (64, 32, 16)  0.0001          16    0.5773\n",
       "25    (64, 32, 16)  0.0001          32    0.5654\n",
       "26    (64, 32, 16)  0.0001          64    0.4920"
      ]
     },
     "execution_count": 28,
     "metadata": {},
     "output_type": "execute_result"
    }
   ],
   "source": [
    "results_df = pd.DataFrame(results)\n",
    "results_df.sort_values(by=\"Macro F1\", ascending=False).reset_index(drop=True)"
   ]
  },
  {
   "cell_type": "code",
   "execution_count": 29,
   "id": "db952c56",
   "metadata": {},
   "outputs": [
    {
     "data": {
      "image/png": "[encoded data removed]",
      "text/plain": [
       "<Figure size 1200x600 with 1 Axes>"
      ]
     },
     "metadata": {},
     "output_type": "display_data"
    }
   ],
   "source": [
    "top_configs = results_df.sort_values(by=\"Macro F1\", ascending=False).head(10)\n",
    "\n",
    "top_configs[\"Label\"] = (\n",
    "    top_configs[\"Hidden Layers\"].astype(str)\n",
    "    + \" | LR=\" + top_configs[\"LR\"].astype(str)\n",
    "    + \" | BS=\" + top_configs[\"Batch Size\"].astype(str)\n",
    ")\n",
    "\n",
    "plt.figure(figsize=(12, 6))\n",
    "plt.barh(top_configs[\"Label\"], top_configs[\"Macro F1\"], color=\"skyblue\")\n",
    "plt.xlabel(\"Macro F1 Score\")\n",
    "plt.title(\"Top 10 Hyperparameter Configurations\")\n",
    "plt.gca().invert_yaxis()\n",
    "plt.tight_layout()\n",
    "plt.show()\n"
   ]
  },
  {
   "cell_type": "code",
   "execution_count": 30,
   "id": "87d67bf3",
   "metadata": {},
   "outputs": [
    {
     "data": {
      "image/png": "[encoded data removed]",
      "text/plain": [
       "<Figure size 1000x600 with 2 Axes>"
      ]
     },
     "metadata": {},
     "output_type": "display_data"
    }
   ],
   "source": [
    "heatmap_df = results_df[results_df[\"Batch Size\"] == 16].pivot_table(\n",
    "    index=\"Hidden Layers\", columns=\"LR\", values=\"Macro F1\"\n",
    ")\n",
    "\n",
    "plt.figure(figsize=(10, 6))\n",
    "sns.heatmap(heatmap_df, annot=True, fmt=\".3f\", cmap=\"YlGnBu\")\n",
    "plt.title(\"Macro F1 Score by Hidden Layer Size and Learning Rate (Batch Size = 16)\")\n",
    "plt.ylabel(\"Hidden Layers\")\n",
    "plt.xlabel(\"Learning Rate\")\n",
    "plt.tight_layout()\n",
    "plt.show()\n"
   ]
  },
  {
   "cell_type": "markdown",
   "id": "8a67c795",
   "metadata": {},
   "source": [
    "## Baseline Comparisons\n",
    "\n",
    "In this section, we evaluate several traditional machine learning models on the same SMOTE-balanced dataset used for training the neural network. These models include:\n",
    "\n",
    "- Logistic Regression  \n",
    "- Linear Discriminant Analysis (LDA)  \n",
    "- Decision Tree  \n",
    "- Random Forest  \n",
    "- Ensemble Voting Classifier  \n",
    "- K-Nearest Neighbors (KNN)  \n",
    "- Naive Bayes  \n",
    "- Support Vector Machine (SVM)\n",
    "\n",
    "All models are trained using the default hyperparameters unless otherwise noted, and evaluated using accuracy, precision, recall, and macro F1-score.\n",
    "\n"
   ]
  },
  {
   "cell_type": "code",
   "execution_count": 31,
   "id": "cd718e2f",
   "metadata": {},
   "outputs": [
    {
     "name": "stderr",
     "output_type": "stream",
     "text": [
      "c:\\Users\\Zesyrus\\AppData\\Local\\Programs\\Python\\Python313\\Lib\\site-packages\\sklearn\\metrics\\_classification.py:1565: UndefinedMetricWarning: Precision is ill-defined and being set to 0.0 in labels with no predicted samples. Use `zero_division` parameter to control this behavior.\n",
      "  _warn_prf(average, modifier, f\"{metric.capitalize()} is\", len(result))\n",
      "c:\\Users\\Zesyrus\\AppData\\Local\\Programs\\Python\\Python313\\Lib\\site-packages\\sklearn\\metrics\\_classification.py:1565: UndefinedMetricWarning: Precision is ill-defined and being set to 0.0 in labels with no predicted samples. Use `zero_division` parameter to control this behavior.\n",
      "  _warn_prf(average, modifier, f\"{metric.capitalize()} is\", len(result))\n",
      "c:\\Users\\Zesyrus\\AppData\\Local\\Programs\\Python\\Python313\\Lib\\site-packages\\sklearn\\metrics\\_classification.py:1565: UndefinedMetricWarning: Precision is ill-defined and being set to 0.0 in labels with no predicted samples. Use `zero_division` parameter to control this behavior.\n",
      "  _warn_prf(average, modifier, f\"{metric.capitalize()} is\", len(result))\n"
     ]
    },
    {
     "data": {
      "application/vnd.microsoft.datawrangler.viewer.v0+json": {
       "columns": [
        {
         "name": "index",
         "rawType": "int64",
         "type": "integer"
        },
        {
         "name": "Model",
         "rawType": "object",
         "type": "string"
        },
        {
         "name": "Accuracy",
         "rawType": "float64",
         "type": "float"
        },
        {
         "name": "Macro F1",
         "rawType": "float64",
         "type": "float"
        },
        {
         "name": "Report",
         "rawType": "object",
         "type": "string"
        }
       ],
       "ref": "7eada721-39d1-4af2-850c-97c2ce9f48cf",
       "rows": [
        [
         "0",
         "Random Forest",
         "0.8589",
         "0.8565",
         "              precision    recall  f1-score   support\n\n           0     0.8481    0.8171    0.8323        82\n           1     0.7600    0.6951    0.7261        82\n           2     0.8659    0.8659    0.8659        82\n           3     0.8837    0.9157    0.8994        83\n           4     0.9213    1.0000    0.9591        82\n\n    accuracy                         0.8589       411\n   macro avg     0.8558    0.8587    0.8565       411\nweighted avg     0.8559    0.8589    0.8567       411\n"
        ],
        [
         "1",
         "Ensemble",
         "0.8029",
         "0.7995",
         "              precision    recall  f1-score   support\n\n           0     0.8421    0.7805    0.8101        82\n           1     0.7286    0.6220    0.6711        82\n           2     0.7674    0.8049    0.7857        82\n           3     0.7907    0.8193    0.8047        83\n           4     0.8710    0.9878    0.9257        82\n\n    accuracy                         0.8029       411\n   macro avg     0.8000    0.8029    0.7995       411\nweighted avg     0.7999    0.8029    0.7995       411\n"
        ],
        [
         "2",
         "KNN",
         "0.7981",
         "0.7932",
         "              precision    recall  f1-score   support\n\n           0     0.8507    0.6951    0.7651        82\n           1     0.6712    0.5976    0.6323        82\n           2     0.7640    0.8293    0.7953        82\n           3     0.8471    0.8675    0.8571        83\n           4     0.8454    1.0000    0.9162        82\n\n    accuracy                         0.7981       411\n   macro avg     0.7957    0.7979    0.7932       411\nweighted avg     0.7958    0.7981    0.7934       411\n"
        ],
        [
         "3",
         "SVM",
         "0.7689",
         "0.7636",
         "              precision    recall  f1-score   support\n\n           0     0.8649    0.7805    0.8205        82\n           1     0.7302    0.5610    0.6345        82\n           2     0.6804    0.8049    0.7374        82\n           3     0.7632    0.6988    0.7296        83\n           4     0.8119    1.0000    0.8962        82\n\n    accuracy                         0.7689       411\n   macro avg     0.7701    0.7690    0.7636       411\nweighted avg     0.7701    0.7689    0.7635       411\n"
        ],
        [
         "4",
         "Decision Tree",
         "0.7372",
         "0.7368",
         "              precision    recall  f1-score   support\n\n           0     0.7407    0.7317    0.7362        82\n           1     0.6310    0.6463    0.6386        82\n           2     0.7403    0.6951    0.7170        82\n           3     0.7349    0.7349    0.7349        83\n           4     0.8372    0.8780    0.8571        82\n\n    accuracy                         0.7372       411\n   macro avg     0.7368    0.7372    0.7368       411\nweighted avg     0.7368    0.7372    0.7368       411\n"
        ],
        [
         "5",
         "Logistic Regression",
         "0.5572",
         "0.558",
         "              precision    recall  f1-score   support\n\n           0     0.7922    0.7439    0.7673        82\n           1     0.6842    0.4756    0.5612        82\n           2     0.3878    0.4634    0.4222        82\n           3     0.4583    0.3976    0.4258        83\n           4     0.5421    0.7073    0.6138        82\n\n    accuracy                         0.5572       411\n   macro avg     0.5729    0.5576    0.5580       411\nweighted avg     0.5726    0.5572    0.5577       411\n"
        ],
        [
         "6",
         "LDA",
         "0.5401",
         "0.5471",
         "              precision    recall  f1-score   support\n\n           0     0.8636    0.6951    0.7703        82\n           1     0.6731    0.4268    0.5224        82\n           2     0.3426    0.4512    0.3895        82\n           3     0.4337    0.4337    0.4337        83\n           4     0.5588    0.6951    0.6196        82\n\n    accuracy                         0.5401       411\n   macro avg     0.5744    0.5404    0.5471       411\nweighted avg     0.5740    0.5401    0.5468       411\n"
        ],
        [
         "7",
         "Naive Bayes",
         "0.4136",
         "0.358",
         "              precision    recall  f1-score   support\n\n           0     0.8308    0.6585    0.7347        82\n           1     0.8205    0.3902    0.5289        82\n           2     0.2500    0.0610    0.0980        82\n           3     0.0000    0.0000    0.0000        83\n           4     0.2753    0.9634    0.4282        82\n\n    accuracy                         0.4136       411\n   macro avg     0.4353    0.4146    0.3580       411\nweighted avg     0.4342    0.4136    0.3571       411\n"
        ]
       ],
       "shape": {
        "columns": 4,
        "rows": 8
       }
      },
      "text/html": [
       "<div>\n",
       "<style scoped>\n",
       "    .dataframe tbody tr th:only-of-type {\n",
       "        vertical-align: middle;\n",
       "    }\n",
       "\n",
       "    .dataframe tbody tr th {\n",
       "        vertical-align: top;\n",
       "    }\n",
       "\n",
       "    .dataframe thead th {\n",
       "        text-align: right;\n",
       "    }\n",
       "</style>\n",
       "<table border=\"1\" class=\"dataframe\">\n",
       "  <thead>\n",
       "    <tr style=\"text-align: right;\">\n",
       "      <th></th>\n",
       "      <th>Model</th>\n",
       "      <th>Accuracy</th>\n",
       "      <th>Macro F1</th>\n",
       "      <th>Report</th>\n",
       "    </tr>\n",
       "  </thead>\n",
       "  <tbody>\n",
       "    <tr>\n",
       "      <th>0</th>\n",
       "      <td>Random Forest</td>\n",
       "      <td>0.8589</td>\n",
       "      <td>0.8565</td>\n",
       "      <td>precision    recall  f1-score   ...</td>\n",
       "    </tr>\n",
       "    <tr>\n",
       "      <th>1</th>\n",
       "      <td>Ensemble</td>\n",
       "      <td>0.8029</td>\n",
       "      <td>0.7995</td>\n",
       "      <td>precision    recall  f1-score   ...</td>\n",
       "    </tr>\n",
       "    <tr>\n",
       "      <th>2</th>\n",
       "      <td>KNN</td>\n",
       "      <td>0.7981</td>\n",
       "      <td>0.7932</td>\n",
       "      <td>precision    recall  f1-score   ...</td>\n",
       "    </tr>\n",
       "    <tr>\n",
       "      <th>3</th>\n",
       "      <td>SVM</td>\n",
       "      <td>0.7689</td>\n",
       "      <td>0.7636</td>\n",
       "      <td>precision    recall  f1-score   ...</td>\n",
       "    </tr>\n",
       "    <tr>\n",
       "      <th>4</th>\n",
       "      <td>Decision Tree</td>\n",
       "      <td>0.7372</td>\n",
       "      <td>0.7368</td>\n",
       "      <td>precision    recall  f1-score   ...</td>\n",
       "    </tr>\n",
       "    <tr>\n",
       "      <th>5</th>\n",
       "      <td>Logistic Regression</td>\n",
       "      <td>0.5572</td>\n",
       "      <td>0.5580</td>\n",
       "      <td>precision    recall  f1-score   ...</td>\n",
       "    </tr>\n",
       "    <tr>\n",
       "      <th>6</th>\n",
       "      <td>LDA</td>\n",
       "      <td>0.5401</td>\n",
       "      <td>0.5471</td>\n",
       "      <td>precision    recall  f1-score   ...</td>\n",
       "    </tr>\n",
       "    <tr>\n",
       "      <th>7</th>\n",
       "      <td>Naive Bayes</td>\n",
       "      <td>0.4136</td>\n",
       "      <td>0.3580</td>\n",
       "      <td>precision    recall  f1-score   ...</td>\n",
       "    </tr>\n",
       "  </tbody>\n",
       "</table>\n",
       "</div>"
      ],
      "text/plain": [
       "                 Model  Accuracy  Macro F1  \\\n",
       "0        Random Forest    0.8589    0.8565   \n",
       "1             Ensemble    0.8029    0.7995   \n",
       "2                  KNN    0.7981    0.7932   \n",
       "3                  SVM    0.7689    0.7636   \n",
       "4        Decision Tree    0.7372    0.7368   \n",
       "5  Logistic Regression    0.5572    0.5580   \n",
       "6                  LDA    0.5401    0.5471   \n",
       "7          Naive Bayes    0.4136    0.3580   \n",
       "\n",
       "                                              Report  \n",
       "0                precision    recall  f1-score   ...  \n",
       "1                precision    recall  f1-score   ...  \n",
       "2                precision    recall  f1-score   ...  \n",
       "3                precision    recall  f1-score   ...  \n",
       "4                precision    recall  f1-score   ...  \n",
       "5                precision    recall  f1-score   ...  \n",
       "6                precision    recall  f1-score   ...  \n",
       "7                precision    recall  f1-score   ...  "
      ]
     },
     "execution_count": 31,
     "metadata": {},
     "output_type": "execute_result"
    }
   ],
   "source": [
    "models = {\n",
    "    'Logistic Regression': LogisticRegression(max_iter=1000, random_state=715),\n",
    "    'LDA': LinearDiscriminantAnalysis(),\n",
    "    'Decision Tree': DecisionTreeClassifier(random_state=715),\n",
    "    'Random Forest': RandomForestClassifier(random_state=715),\n",
    "    'Ensemble': VotingClassifier([\n",
    "        ('lr', LogisticRegression(max_iter=1000, random_state=715)),\n",
    "        ('rf', RandomForestClassifier(random_state=715)),\n",
    "        ('svc', SVC(probability=True, random_state=715))\n",
    "    ], voting='soft'),\n",
    "    'KNN': KNeighborsClassifier(),\n",
    "    'Naive Bayes': GaussianNB(),\n",
    "    'SVM': SVC(probability=True, random_state=715)\n",
    "}\n",
    "\n",
    "results = []\n",
    "\n",
    "for name, model in models.items():\n",
    "    model.fit(X_train, y_train)\n",
    "    y_pred = model.predict(X_test)\n",
    "    acc = accuracy_score(y_test, y_pred)\n",
    "    macro_f1 = f1_score(y_test, y_pred, average='macro')\n",
    "    results.append({\n",
    "        'Model': name,\n",
    "        'Accuracy': round(acc, 4),\n",
    "        'Macro F1': round(macro_f1, 4),\n",
    "        'Report': classification_report(y_test, y_pred, digits=4, output_dict=False)\n",
    "    })\n",
    "\n",
    "results_df = pd.DataFrame(results)\n",
    "results_df.sort_values(by=\"Macro F1\", ascending=False).reset_index(drop=True)"
   ]
  },
  {
   "cell_type": "markdown",
   "id": "4a38ea38",
   "metadata": {},
   "source": [
    "## Discussion of Results\n"
   ]
  },
  {
   "cell_type": "markdown",
   "id": "5db8668e",
   "metadata": {},
   "source": [
    "### Summary of Findings\n",
    "\n",
    "The deep neural network achieved the **highest accuracy and macro F1 score**, outperforming all traditional classifiers. However, several non-deep-learning models, especially **Random Forest** and **Ensemble Voting**, also demonstrated strong performance and provide viable alternatives."
   ]
  },
  {
   "cell_type": "markdown",
   "id": "176fb7e6",
   "metadata": {},
   "source": [
    "### Model Insights\n",
    "\n",
    "- **Neural Network**  \n",
    "  Achieved the most balanced and accurate results. Particularly strong at capturing complex feature interactions, especially when supported by SMOTE and class weighting.\n",
    "\n",
    "- **Random Forest**  \n",
    "  Strongest performer among traditional models. Its ability to handle nonlinearity, feature interactions, and class imbalance makes it a reliable baseline.\n",
    "\n",
    "- **Ensemble (Soft Voting)**  \n",
    "  Combined strengths of logistic regression, random forest, and SVM. It delivered solid performance, slightly below Random Forest but well above simpler models.\n",
    "\n",
    "- **K-Nearest Neighbors (KNN)**  \n",
    "  Performed surprisingly well. Sensitive to feature scaling and data noise but benefits from SMOTE-balanced data.\n",
    "\n",
    "- **SVM (RBF Kernel)**  \n",
    "  Generalized well, especially with soft voting in the ensemble. Ideal for small-to-medium datasets with complex boundaries.\n",
    "\n",
    "- **Decision Tree**  \n",
    "  Performed reasonably well, but likely overfitting slightly without pruning or regularization.\n",
    "\n",
    "- **Logistic Regression & LDA**  \n",
    "  Limited by linear assumptions. These models underperformed due to the nonlinear and imbalanced nature of the dataset.\n",
    "\n",
    "- **Naive Bayes**  \n",
    "  Performed poorly due to its strong independence assumptions, which don’t hold for this medical dataset."
   ]
  }
 ],
 "metadata": {
  "kernelspec": {
   "display_name": "Python 3",
   "language": "python",
   "name": "python3"
  },
  "language_info": {
   "codemirror_mode": {
    "name": "ipython",
    "version": 3
   },
   "file_extension": ".py",
   "mimetype": "text/x-python",
   "name": "python",
   "nbconvert_exporter": "python",
   "pygments_lexer": "ipython3",
   "version": "3.13.2"
  }
 },
 "nbformat": 4,
 "nbformat_minor": 5
}
